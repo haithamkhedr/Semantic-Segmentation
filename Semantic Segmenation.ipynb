{
 "cells": [
  {
   "cell_type": "code",
   "execution_count": 1,
   "metadata": {
    "collapsed": false
   },
   "outputs": [
    {
     "name": "stdout",
     "output_type": "stream",
     "text": [
      "TensorFlow Version: 1.3.0\n",
      "Default GPU Device: /gpu:0\n"
     ]
    }
   ],
   "source": [
    "#Imports and TF version check\n",
    "import os.path\n",
    "import tensorflow as tf\n",
    "import helper\n",
    "import warnings\n",
    "from distutils.version import LooseVersion\n",
    "import project_tests as tests\n",
    "import numpy as np\n",
    "\n",
    "tf.logging.set_verbosity(tf.logging.INFO)\n",
    "\n",
    "\n",
    "TEST = False\n",
    "# Check TensorFlow Version\n",
    "assert LooseVersion(tf.__version__) >= LooseVersion('1.0'), 'Please use TensorFlow version 1.0 or newer.  You are using {}'.format(tf.__version__)\n",
    "print('TensorFlow Version: {}'.format(tf.__version__))\n",
    "\n",
    "# Check for a GPU\n",
    "if not tf.test.gpu_device_name():\n",
    "    warnings.warn('No GPU found. Please use a GPU to train your neural network.')\n",
    "else:\n",
    "    print('Default GPU Device: {}'.format(tf.test.gpu_device_name()))"
   ]
  },
  {
   "cell_type": "code",
   "execution_count": 2,
   "metadata": {
    "collapsed": false,
    "scrolled": false
   },
   "outputs": [],
   "source": [
    "#Loading the vgg16 model\n",
    "def load_vgg(sess, vgg_path):\n",
    "    \"\"\"\n",
    "    Load Pretrained VGG Model into TensorFlow.\n",
    "    :param sess: TensorFlow Session\n",
    "    :param vgg_path: Path to vgg folder, containing \"variables/\" and \"saved_model.pb\"\n",
    "    :return: Tuple of Tensors from VGG model (image_input, keep_prob, layer3_out, layer4_out, layer7_out)\n",
    "    \"\"\"\n",
    "    # TODO: Implement function\n",
    "    #   Use tf.saved_model.loader.load to load the model and weights\n",
    "    if(sess is None):\n",
    "        sess = tf.Session()\n",
    "        print('Created new session')\n",
    "    graph = tf.get_default_graph()\n",
    "    vgg_tag = 'vgg16'\n",
    "    vgg_input_tensor_name = 'image_input:0'\n",
    "    vgg_keep_prob_tensor_name = 'keep_prob:0'\n",
    "    vgg_layer3_out_tensor_name = 'layer3_out:0'\n",
    "    vgg_layer4_out_tensor_name = 'layer4_out:0'\n",
    "    vgg_layer7_out_tensor_name = 'layer7_out:0'\n",
    "    model_exists = tf.saved_model.loader.maybe_saved_model_directory(vgg_path)\n",
    "    model = []\n",
    "    if(model_exists):\n",
    "        print(\"Model exists\")\n",
    "        model = tf.saved_model.loader.load(sess,[vgg_tag],vgg_path)\n",
    "    else:\n",
    "        print(\"No model in directory\")\n",
    "        return\n",
    "   \n",
    "    input_image = graph.get_tensor_by_name(vgg_input_tensor_name)\n",
    "    keep_prob =  graph.get_tensor_by_name(vgg_keep_prob_tensor_name)\n",
    "    layer3_out = graph.get_tensor_by_name(vgg_layer3_out_tensor_name)\n",
    "    layer4_out = graph.get_tensor_by_name(vgg_layer4_out_tensor_name)\n",
    "    layer7_out = graph.get_tensor_by_name(vgg_layer7_out_tensor_name)\n",
    "\n",
    "    \n",
    "    return input_image, keep_prob, layer3_out, layer4_out, layer7_out\n",
    "\n",
    "helper.maybe_download_pretrained_vgg(\"./data\")\n",
    "vgg_path = './data/vgg/'\n",
    "sess = None\n",
    "if(TEST):\n",
    "    tests.test_load_vgg(load_vgg, vgg_path, tf)\n"
   ]
  },
  {
   "cell_type": "code",
   "execution_count": 3,
   "metadata": {
    "collapsed": false
   },
   "outputs": [],
   "source": [
    "def layers(vgg_layer3_out, vgg_layer4_out, vgg_layer7_out, num_classes):\n",
    "    \"\"\"\n",
    "    Create the layers for a fully convolutional network.  Build skip-layers using the vgg layers.\n",
    "    :param vgg_layer7_out: TF Tensor for VGG Layer 3 output\n",
    "    :param vgg_layer4_out: TF Tensor for VGG Layer 4 output\n",
    "    :param vgg_layer3_out: TF Tensor for VGG Layer 7 output\n",
    "    :param num_classes: Number of classes to classify\n",
    "    :return: The Tensor for the last layer of output\n",
    "    \"\"\"\n",
    "    # TODO: Implement function\n",
    "    \n",
    "    conv7_1x1 = tf.layers.conv2d(vgg_layer7_out, num_classes, kernel_size = 1, strides = 1, padding = 'same',\n",
    "                                kernel_regularizer = tf.contrib.layers.l2_regularizer(1e-3), name = 'conv_1x1')\n",
    "    \n",
    "    pool4_1x1 = tf.layers.conv2d(vgg_layer4_out, num_classes, kernel_size = 1, strides = 1, padding = 'same',\n",
    "                                kernel_regularizer = tf.contrib.layers.l2_regularizer(1e-3), name = 'conv_1x1')\n",
    "    \n",
    "    pool3_1x1 = tf.layers.conv2d(vgg_layer3_out, num_classes, kernel_size = 1, strides = 1, padding = 'same',\n",
    "                                kernel_regularizer = tf.contrib.layers.l2_regularizer(1e-3), name = 'conv_1x1')\n",
    "    \n",
    "    upsample_2_conv7 = tf.layers.conv2d_transpose(conv7_1x1, num_classes , kernel_size = 4, strides = 2 ,padding='same',\n",
    "                                            kernel_regularizer = tf.contrib.layers.l2_regularizer(1e-3), name = 'upsampleX2_conv7')\n",
    "    \n",
    "    skip_pool4_conv7 = tf.add(upsample_2_conv7, pool4_1x1,name = 'skip_pool4_conv7')\n",
    "    \n",
    "    upsample_2_skip1 = tf.layers.conv2d_transpose(skip_pool4_conv7, num_classes, kernel_size = 4, strides = 2, padding='same',\n",
    "                                            kernel_regularizer = tf.contrib.layers.l2_regularizer(1e-3),name = 'upsampleX2_skip_pool4_conv7' )\n",
    "    \n",
    "    skip_pool3 = tf.add(upsample_2_skip1,pool3_1x1,name = 'skip_pool3' )\n",
    "    \n",
    "    out = tf.layers.conv2d_transpose(skip_pool3, num_classes, kernel_size = 16, strides = 8, padding='same',\n",
    "                                            kernel_regularizer = tf.contrib.layers.l2_regularizer(1e-3),name = 'upsampleX8_skip_pool3' )\n",
    "\n",
    "    \n",
    "    return out\n",
    "if(TEST):\n",
    "    tests.test_layers(layers)"
   ]
  },
  {
   "cell_type": "code",
   "execution_count": 4,
   "metadata": {
    "collapsed": false
   },
   "outputs": [],
   "source": [
    "\n",
    "def optimize(nn_last_layer, correct_labels, learn_rate, num_classes):\n",
    "    \"\"\"\n",
    "    Build the TensorFLow loss and optimizer operations.\n",
    "    :param nn_last_layer: TF Tensor of the last layer in the neural network\n",
    "    :param correct_label: TF Placeholder for the correct label image\n",
    "    :param learning_rate: TF Placeholder for the learning rate\n",
    "    :param num_classes: Number of classes to classify\n",
    "    :return: Tuple of (logits, train_op, cross_entropy_loss)\n",
    "    \"\"\"\n",
    "    # TODO: Implement function\n",
    "    logits = tf.reshape(nn_last_layer,(-1,num_classes), name = 'Logits')\n",
    "    correct_labels = tf.reshape(correct_labels,(-1,num_classes), name = 'Labels')\n",
    "    loss = tf.reduce_mean(tf.nn.softmax_cross_entropy_with_logits(logits = logits,labels = correct_labels, name = 'LossFn'), name = 'Loss_mean')\n",
    "    optimizer = tf.train.AdamOptimizer(learning_rate = learn_rate, name = 'Optimizer').minimize(loss, name = 'train_op')\n",
    "    \n",
    "    return logits, optimizer, loss\n",
    "if(TEST):\n",
    "    tests.test_optimize(optimize)"
   ]
  },
  {
   "cell_type": "code",
   "execution_count": null,
   "metadata": {
    "collapsed": false
   },
   "outputs": [],
   "source": [
    "def train_nn(sess, epochs, batch_size, get_batches_fn, train_op, cross_entropy_loss, input_image,\n",
    "             correct_labels, keep_prob, learning_rate):\n",
    "    \"\"\"\n",
    "    Train neural network and print out the loss during training.\n",
    "    :param sess: TF Session\n",
    "    :param epochs: Number of epochs\n",
    "    :param batch_size: Batch size\n",
    "    :param get_batches_fn: Function to get batches of training data.  Call using get_batches_fn(batch_size)\n",
    "    :param train_op: TF Operation to train the neural network\n",
    "    :param cross_entropy_loss: TF Tensor for the amount of loss\n",
    "    :param input_image: TF Placeholder for input images\n",
    "    :param correct_label: TF Placeholder for label images\n",
    "    :param keep_prob: TF Placeholder for dropout keep probability\n",
    "    :param learning_rate: TF Placeholder for learning rate\n",
    "    \"\"\"\n",
    "    sess.run(tf.global_variables_initializer())\n",
    "    keep_probability = 1\n",
    "    learn_rate = 1e-4\n",
    "    # TODO: Implement function\n",
    "    for epoch in range(epochs):\n",
    "        for batch, batch_labels in get_batches_fn(batch_size):\n",
    "            feed = {keep_prob : keep_probability, learning_rate : learn_rate, input_image : batch, correct_labels : batch_labels  }\n",
    "            _,loss_hist = sess.run([train_op,cross_entropy_loss], feed_dict = feed)\n",
    "        print('Epoch' + str(epoch+1) + '/' + str(epochs))\n",
    "    pass\n",
    "if(TEST):\n",
    "    tests.test_train_nn(train_nn)"
   ]
  },
  {
   "cell_type": "code",
   "execution_count": null,
   "metadata": {
    "collapsed": false,
    "scrolled": false
   },
   "outputs": [
    {
     "name": "stdout",
     "output_type": "stream",
     "text": [
      "Model exists\n",
      "INFO:tensorflow:Restoring parameters from b'./data/vgg/variables/variables'\n"
     ]
    }
   ],
   "source": [
    "\n",
    "def run():\n",
    "    num_classes = 2\n",
    "    image_shape = (160, 576)\n",
    "    data_dir = './data'\n",
    "    runs_dir = './runs'\n",
    "    if(TEST):\n",
    "        tests.test_for_kitti_dataset(data_dir)\n",
    "\n",
    "    # Download pretrained vgg model\n",
    "    helper.maybe_download_pretrained_vgg(data_dir)\n",
    "\n",
    "    # OPTIONAL: Train and Inference on the cityscapes dataset instead of the Kitti dataset.\n",
    "    # You'll need a GPU with at least 10 teraFLOPS to train on.\n",
    "    #  https://www.cityscapes-dataset.com/\n",
    "    \n",
    "    with tf.Session() as sess:\n",
    "        # Path to vgg model\n",
    "        vgg_path = os.path.join(data_dir, 'vgg')\n",
    "        # Create function to get batches\n",
    "        get_batches_fn = helper.gen_batch_function(os.path.join(data_dir, 'data_road/training'), image_shape)\n",
    "        \n",
    "        \n",
    "        # OPTIONAL: Augment Images for better results\n",
    "        #  https://datascience.stackexchange.com/questions/5224/how-to-prepare-augment-images-for-neural-network\n",
    "        \n",
    "        # TODO: Build NN using load_vgg, layers, and optimize function\n",
    "        learning_rate = tf.placeholder(tf.float32)\n",
    "        keep_probability = 1\n",
    "        epochs = 10\n",
    "        batch_size = 15\n",
    "        out_shape = (None,None,None,num_classes)\n",
    "        \n",
    "        stub_img = np.zeros((1,160,576,3))\n",
    "        input_image, keep_prob, layer3_out, layer4_out, layer7_out = load_vgg(sess, vgg_path)\n",
    "        correct_labels = tf.placeholder(tf.float32,out_shape)\n",
    "        output = layers(layer3_out, layer4_out, layer7_out, num_classes)\n",
    "        #print(sess.run([conv1],feed_dict = {keep_prob:1,input_image:stub_img}))\n",
    "        logits, optimizer, loss = optimize(output, correct_labels, learning_rate, num_classes)\n",
    "        \n",
    "        # TODO: Train NN using the train_nn function\n",
    "        train_nn(sess, epochs, batch_size, get_batches_fn, optimizer, loss, input_image,\n",
    "             correct_labels, keep_prob = keep_prob, learning_rate = learning_rate)\n",
    "        print('finished training')\n",
    "        # TODO: Save inference data using helper.save_inference_samples\n",
    "        #  helper.save_inference_samples(runs_dir, data_dir, sess, image_shape, logits, keep_prob, input_image)\n",
    "        helper.save_inference_samples(runs_dir, data_dir, sess, image_shape, logits, keep_prob, input_image)\n",
    "        # OPTIONAL: Apply the trained model to a video\n",
    "\n",
    "\n",
    "if __name__ == '__main__':\n",
    "    run()"
   ]
  },
  {
   "cell_type": "code",
   "execution_count": null,
   "metadata": {
    "collapsed": true
   },
   "outputs": [],
   "source": []
  }
 ],
 "metadata": {
  "kernelspec": {
   "display_name": "Python 3",
   "language": "python",
   "name": "python3"
  },
  "language_info": {
   "codemirror_mode": {
    "name": "ipython",
    "version": 3
   },
   "file_extension": ".py",
   "mimetype": "text/x-python",
   "name": "python",
   "nbconvert_exporter": "python",
   "pygments_lexer": "ipython3",
   "version": "3.5.2"
  }
 },
 "nbformat": 4,
 "nbformat_minor": 1
}
